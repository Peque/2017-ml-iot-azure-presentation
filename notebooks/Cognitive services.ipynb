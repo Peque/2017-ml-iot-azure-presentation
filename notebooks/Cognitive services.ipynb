{
 "cells": [
  {
   "cell_type": "markdown",
   "metadata": {
    "deletable": true,
    "editable": true
   },
   "source": [
    "# Computer vision API"
   ]
  },
  {
   "cell_type": "code",
   "execution_count": null,
   "metadata": {
    "collapsed": false,
    "deletable": true,
    "editable": true
   },
   "outputs": [],
   "source": [
    "import time\n",
    "from pathlib import Path\n",
    "from uuid import uuid4\n",
    "\n",
    "import requests\n",
    "import matplotlib.pyplot as plt\n",
    "import IPython\n",
    "\n",
    "\n",
    "%matplotlib inline "
   ]
  },
  {
   "cell_type": "code",
   "execution_count": null,
   "metadata": {
    "collapsed": true,
    "deletable": true,
    "editable": true
   },
   "outputs": [],
   "source": [
    "def post_image(path):\n",
    "    \n",
    "    url = 'https://westus.api.cognitive.microsoft.com/vision/v1.0/analyze'\n",
    "    key = '12c03002aa744b36a59feac44c396770'\n",
    "    \n",
    "    params = { 'visualFeatures' : 'Categories,Tags,Description,ImageType,Adult'} \n",
    "\n",
    "    headers = dict()\n",
    "    headers['Ocp-Apim-Subscription-Key'] = key\n",
    "    headers['Content-Type'] = 'application/octet-stream' \n",
    "\n",
    "    data = Path(path).read_bytes()\n",
    "\n",
    "    return requests.post(url, data=data, headers=headers, params=params)"
   ]
  },
  {
   "cell_type": "markdown",
   "metadata": {
    "deletable": true,
    "editable": true
   },
   "source": [
    "## Image 1"
   ]
  },
  {
   "cell_type": "code",
   "execution_count": null,
   "metadata": {
    "collapsed": false,
    "deletable": true,
    "editable": true
   },
   "outputs": [],
   "source": [
    "image = 'cognitive/food.jpg'\n",
    "IPython.display.Image(url=image)"
   ]
  },
  {
   "cell_type": "code",
   "execution_count": null,
   "metadata": {
    "collapsed": false,
    "deletable": true,
    "editable": true
   },
   "outputs": [],
   "source": [
    "result = post_image(image)\n",
    "result.json()"
   ]
  },
  {
   "cell_type": "markdown",
   "metadata": {
    "deletable": true,
    "editable": true
   },
   "source": [
    "## Image 2"
   ]
  },
  {
   "cell_type": "code",
   "execution_count": null,
   "metadata": {
    "collapsed": false,
    "deletable": true,
    "editable": true
   },
   "outputs": [],
   "source": [
    "image = 'cognitive/helicopter.jpg'\n",
    "IPython.display.Image(url=image)"
   ]
  },
  {
   "cell_type": "code",
   "execution_count": null,
   "metadata": {
    "collapsed": false,
    "deletable": true,
    "editable": true
   },
   "outputs": [],
   "source": [
    "result = post_image(image)\n",
    "result.json()"
   ]
  },
  {
   "cell_type": "markdown",
   "metadata": {
    "deletable": true,
    "editable": true
   },
   "source": [
    "## Image 3"
   ]
  },
  {
   "cell_type": "code",
   "execution_count": null,
   "metadata": {
    "collapsed": false,
    "deletable": true,
    "editable": true
   },
   "outputs": [],
   "source": [
    "image = 'cognitive/jetski.jpg'\n",
    "IPython.display.Image(url=image)"
   ]
  },
  {
   "cell_type": "code",
   "execution_count": null,
   "metadata": {
    "collapsed": false,
    "deletable": true,
    "editable": true
   },
   "outputs": [],
   "source": [
    "result = post_image(image)\n",
    "result.json()"
   ]
  },
  {
   "cell_type": "markdown",
   "metadata": {
    "deletable": true,
    "editable": true
   },
   "source": [
    "## Image 4"
   ]
  },
  {
   "cell_type": "code",
   "execution_count": null,
   "metadata": {
    "collapsed": false,
    "deletable": true,
    "editable": true
   },
   "outputs": [],
   "source": [
    "image = 'cognitive/david.jpg'\n",
    "IPython.display.Image(url=image)"
   ]
  },
  {
   "cell_type": "code",
   "execution_count": null,
   "metadata": {
    "collapsed": false,
    "deletable": true,
    "editable": true
   },
   "outputs": [],
   "source": [
    "result = post_image(image)\n",
    "result.json()"
   ]
  },
  {
   "cell_type": "markdown",
   "metadata": {
    "deletable": true,
    "editable": true
   },
   "source": [
    "## Image 5"
   ]
  },
  {
   "cell_type": "code",
   "execution_count": null,
   "metadata": {
    "collapsed": true,
    "deletable": true,
    "editable": true
   },
   "outputs": [],
   "source": [
    "image = 'cognitive/war.jpg'"
   ]
  },
  {
   "cell_type": "code",
   "execution_count": null,
   "metadata": {
    "collapsed": false,
    "deletable": true,
    "editable": true
   },
   "outputs": [],
   "source": [
    "result = post_image(image)\n",
    "result.json()"
   ]
  },
  {
   "cell_type": "markdown",
   "metadata": {
    "deletable": true,
    "editable": true
   },
   "source": [
    "# Speech recognition API"
   ]
  },
  {
   "cell_type": "code",
   "execution_count": null,
   "metadata": {
    "collapsed": true,
    "deletable": true,
    "editable": true
   },
   "outputs": [],
   "source": [
    "class Speech():\n",
    "    def __init__(self):\n",
    "        self.key = '02661344f51146a9ac82411546f309eb'\n",
    "        self.jwt = None\n",
    "        self.expiry = 0\n",
    "        self.instance = str(uuid4())\n",
    "        self._renew_jwt()\n",
    "    \n",
    "    def recognize(self, path):\n",
    "        \n",
    "        # Access token expires every 10 minutes. Renew it every 9 minutes only\n",
    "        if time.time() - self.expiry >= 60 * 9:\n",
    "            self._renew_jwt()\n",
    "\n",
    "        url = 'https://speech.platform.bing.com/recognize'\n",
    "\n",
    "        params = {\n",
    "            'Version': '3.0',\n",
    "            'requestid' : str(uuid4()),\n",
    "            'appID': 'D4D52672-91D7-4C74-8AD8-42B1D98141A5',\n",
    "            'format': 'json',\n",
    "            'locale': 'en-US',\n",
    "            'device.os': 'Linux',\n",
    "            'scenarios': 'websearch',\n",
    "            'instanceid': self.instance,\n",
    "            'maxnbest': '3',\n",
    "        } \n",
    "\n",
    "        headers = dict()\n",
    "        headers['Authorization'] = 'Bearer ' + self.jwt\n",
    "        headers['Content-Type'] = 'audio/wav; samplerate=44100'\n",
    "\n",
    "        data = Path(path).read_bytes()\n",
    "\n",
    "        return requests.post(url, data=data, headers=headers, params=params)\n",
    "        \n",
    "    def _renew_jwt(self):\n",
    "\n",
    "        self.expiry = time.time()\n",
    "        url = 'https://api.cognitive.microsoft.com/sts/v1.0/issueToken'\n",
    "\n",
    "        headers = dict()\n",
    "        headers['Ocp-Apim-Subscription-Key'] = self.key\n",
    "\n",
    "        response = requests.post(url, headers=headers)\n",
    "        response.raise_for_status()\n",
    "        \n",
    "        self.jwt = response.content.decode()"
   ]
  },
  {
   "cell_type": "code",
   "execution_count": null,
   "metadata": {
    "collapsed": false,
    "deletable": true,
    "editable": true
   },
   "outputs": [],
   "source": [
    "speech = Speech()"
   ]
  },
  {
   "cell_type": "code",
   "execution_count": null,
   "metadata": {
    "collapsed": false,
    "deletable": true,
    "editable": true
   },
   "outputs": [],
   "source": [
    "audio = 'cognitive/simple.wav'\n",
    "IPython.display.Audio(url=audio)"
   ]
  },
  {
   "cell_type": "code",
   "execution_count": null,
   "metadata": {
    "collapsed": false,
    "deletable": true,
    "editable": true
   },
   "outputs": [],
   "source": [
    "response = speech.recognize(audio)\n",
    "response.json()"
   ]
  },
  {
   "cell_type": "code",
   "execution_count": null,
   "metadata": {
    "collapsed": false,
    "deletable": true,
    "editable": true
   },
   "outputs": [],
   "source": [
    "audio = 'cognitive/context.wav'\n",
    "IPython.display.Audio(url=audio)"
   ]
  },
  {
   "cell_type": "code",
   "execution_count": null,
   "metadata": {
    "collapsed": false,
    "deletable": true,
    "editable": true
   },
   "outputs": [],
   "source": [
    "response = speech.recognize(audio)\n",
    "response.json()"
   ]
  },
  {
   "cell_type": "code",
   "execution_count": null,
   "metadata": {
    "collapsed": false,
    "deletable": true,
    "editable": true
   },
   "outputs": [],
   "source": [
    "audio = 'cognitive/accent.wav'\n",
    "IPython.display.Audio(url=audio)"
   ]
  },
  {
   "cell_type": "code",
   "execution_count": null,
   "metadata": {
    "collapsed": false,
    "deletable": true,
    "editable": true
   },
   "outputs": [],
   "source": [
    "response = speech.recognize(audio)\n",
    "response.json()"
   ]
  },
  {
   "cell_type": "code",
   "execution_count": null,
   "metadata": {
    "collapsed": false,
    "deletable": true,
    "editable": true
   },
   "outputs": [],
   "source": [
    "audio = 'cognitive/accent2.wav'\n",
    "IPython.display.Audio(url=audio)"
   ]
  },
  {
   "cell_type": "code",
   "execution_count": null,
   "metadata": {
    "collapsed": false,
    "deletable": true,
    "editable": true
   },
   "outputs": [],
   "source": [
    "response = speech.recognize(audio)\n",
    "response.json()"
   ]
  }
 ],
 "metadata": {
  "kernelspec": {
   "display_name": "Python 3",
   "language": "python",
   "name": "python3"
  },
  "language_info": {
   "codemirror_mode": {
    "name": "ipython",
    "version": 3
   },
   "file_extension": ".py",
   "mimetype": "text/x-python",
   "name": "python",
   "nbconvert_exporter": "python",
   "pygments_lexer": "ipython3",
   "version": "3.6.0"
  }
 },
 "nbformat": 4,
 "nbformat_minor": 2
}
