{
 "cells": [
  {
   "cell_type": "code",
   "execution_count": null,
   "metadata": {
    "collapsed": false,
    "deletable": true,
    "editable": true,
    "scrolled": false
   },
   "outputs": [],
   "source": [
    "import numpy\n",
    "import pandas\n",
    "import bokeh\n",
    "from bokeh.io import output_notebook, save\n",
    "from bokeh.charts import Scatter, show, Line\n",
    "from bokeh.models import Range1d\n",
    "\n",
    "output_notebook()"
   ]
  },
  {
   "cell_type": "markdown",
   "metadata": {},
   "source": [
    "# Simple linear model"
   ]
  },
  {
   "cell_type": "code",
   "execution_count": null,
   "metadata": {
    "collapsed": false,
    "deletable": true,
    "editable": true
   },
   "outputs": [],
   "source": [
    "p = Line([x + 5 for x in tuple(range(21))], xlabel='x', ylabel='y', legend=None)\n",
    "p.x_range = Range1d(0, 20)\n",
    "p.y_range = Range1d(0, 25)\n",
    "show(p)"
   ]
  },
  {
   "cell_type": "code",
   "execution_count": null,
   "metadata": {
    "collapsed": false,
    "deletable": true,
    "editable": true
   },
   "outputs": [],
   "source": [
    "numpy.random.seed(0)\n",
    "\n",
    "N = 21\n",
    "x = numpy.arange(0, N)\n",
    "yo = x + 5\n",
    "ye = yo + numpy.random.normal(0., 2., N)\n",
    "\n",
    "pandas.DataFrame(dict(x=x, y=ye)).to_csv('../data/line.csv', index=False)"
   ]
  },
  {
   "cell_type": "code",
   "execution_count": null,
   "metadata": {
    "collapsed": false,
    "deletable": true,
    "editable": true,
    "scrolled": false
   },
   "outputs": [],
   "source": [
    "df = pandas.DataFrame(dict(x=x, y=yo))\n",
    "\n",
    "p = Scatter(df, x='x', y='y')\n",
    "p.x_range = Range1d(0, 20)\n",
    "p.y_range = Range1d(0, 25)\n",
    "show(p)"
   ]
  },
  {
   "cell_type": "code",
   "execution_count": null,
   "metadata": {
    "collapsed": false,
    "deletable": true,
    "editable": true,
    "scrolled": false
   },
   "outputs": [],
   "source": [
    "df = pandas.DataFrame(dict(x=x, y=ye))\n",
    "\n",
    "p = Scatter(df, x='x', y='y')\n",
    "p.x_range = Range1d(0, 20)\n",
    "p.y_range = Range1d(0, 25)\n",
    "show(p)"
   ]
  },
  {
   "cell_type": "code",
   "execution_count": null,
   "metadata": {
    "collapsed": false,
    "deletable": true,
    "editable": true
   },
   "outputs": [],
   "source": [
    "df = pandas.DataFrame(dict(x=x, y=ye))\n",
    "\n",
    "p = Scatter(df, x='x', y='y')\n",
    "p.x_range = Range1d(0, 20)\n",
    "p.y_range = Range1d(0, 25)\n",
    "p.line(x=(0, 20), y=(5, 25), line_width=4)\n",
    "show(p)"
   ]
  },
  {
   "cell_type": "code",
   "execution_count": null,
   "metadata": {
    "collapsed": false,
    "deletable": true,
    "editable": true
   },
   "outputs": [],
   "source": [
    "df = pandas.DataFrame(dict(x=x, y=ye))\n",
    "\n",
    "p = Scatter(df, x='x', y='y')\n",
    "p.x_range = Range1d(0, 20)\n",
    "p.y_range = Range1d(0, 25)\n",
    "p.line(x=(0, 20), y=(1, 2), line_width=4)\n",
    "show(p)"
   ]
  },
  {
   "cell_type": "code",
   "execution_count": null,
   "metadata": {
    "collapsed": false,
    "deletable": true,
    "editable": true
   },
   "outputs": [],
   "source": [
    "from numpy import linspace,exp\n",
    "from numpy.random import randn\n",
    "import matplotlib.pyplot as plt\n",
    "from scipy.interpolate import UnivariateSpline\n",
    "\n",
    "s = UnivariateSpline(x, ye, s=1)\n",
    "xs = linspace(0, 20, 1000)\n",
    "ys = s(xs)\n",
    "\n",
    "p = Scatter(df, x='x', y='y')\n",
    "p.x_range = Range1d(0, 20)\n",
    "p.y_range = Range1d(0, 25)\n",
    "p.line(x=xs, y=ys, line_width=4)\n",
    "show(p)"
   ]
  },
  {
   "cell_type": "markdown",
   "metadata": {},
   "source": [
    "# Simple non-linear model"
   ]
  },
  {
   "cell_type": "markdown",
   "metadata": {},
   "source": [
    "Acceleration is defined as the rate of change of velocity:\n",
    "\n",
    "$$a = \\frac{\\mathrm{d}v}{\\mathrm{d}t}$$\n",
    "\n",
    "Velocity (speed) is the rate of change of position:\n",
    "\n",
    "$$v = \\frac{\\mathrm{d}x}{\\mathrm{d}t}$$"
   ]
  },
  {
   "cell_type": "code",
   "execution_count": null,
   "metadata": {
    "collapsed": true
   },
   "outputs": [],
   "source": [
    "import sympy\n",
    "from sympy import symbols, Eq, Integral, solve\n",
    "from sympy.plotting import plot, plot_parametric, plot_implicit\n",
    "\n",
    "sympy.init_printing()"
   ]
  },
  {
   "cell_type": "code",
   "execution_count": null,
   "metadata": {
    "collapsed": true
   },
   "outputs": [],
   "source": [
    "a, x, x0, v, v0, t, t0 = symbols('a x x_0 v v_0 t t_0')"
   ]
  },
  {
   "cell_type": "code",
   "execution_count": null,
   "metadata": {
    "collapsed": false
   },
   "outputs": [],
   "source": [
    "left = Integral(a, (t, 0, t))\n",
    "right = Integral(1, (v, v0, v))\n",
    "equation = Eq(left, right)\n",
    "equation"
   ]
  },
  {
   "cell_type": "code",
   "execution_count": null,
   "metadata": {
    "collapsed": false
   },
   "outputs": [],
   "source": [
    "equation = equation.doit()\n",
    "equation"
   ]
  },
  {
   "cell_type": "code",
   "execution_count": null,
   "metadata": {
    "collapsed": false
   },
   "outputs": [],
   "source": [
    "v = solve(equation, v)[0]\n",
    "v"
   ]
  },
  {
   "cell_type": "code",
   "execution_count": null,
   "metadata": {
    "collapsed": false
   },
   "outputs": [],
   "source": [
    "left = Integral(v, (t, 0, t))\n",
    "right = Integral(1, (x, x0, x))\n",
    "equation = Eq(left, right)\n",
    "equation"
   ]
  },
  {
   "cell_type": "code",
   "execution_count": null,
   "metadata": {
    "collapsed": false
   },
   "outputs": [],
   "source": [
    "equation = equation.doit()\n",
    "equation"
   ]
  },
  {
   "cell_type": "code",
   "execution_count": null,
   "metadata": {
    "collapsed": false
   },
   "outputs": [],
   "source": [
    "solutions = solve(equation, t)\n",
    "solutions"
   ]
  },
  {
   "cell_type": "code",
   "execution_count": null,
   "metadata": {
    "collapsed": false
   },
   "outputs": [],
   "source": [
    "s0 = solutions[0].subs({'v_0': 0, 'x_0': 0, 'a': 9.8})\n",
    "s0"
   ]
  },
  {
   "cell_type": "code",
   "execution_count": null,
   "metadata": {
    "collapsed": false
   },
   "outputs": [],
   "source": [
    "s1 = solutions[1].subs({'v_0': 0, 'x_0': 0, 'a': 9.8})\n",
    "s1"
   ]
  },
  {
   "cell_type": "code",
   "execution_count": null,
   "metadata": {
    "collapsed": false
   },
   "outputs": [],
   "source": [
    "import matplotlib.pyplot as plt\n",
    "plt.rcParams[\"figure.figsize\"] = (10,8)\n",
    "\n",
    "plot(s0, (x, 0, 10), title='Fall duration',\n",
    "     xlabel='Distance (m)', ylabel='Time (s)')"
   ]
  },
  {
   "cell_type": "code",
   "execution_count": null,
   "metadata": {
    "collapsed": false
   },
   "outputs": [],
   "source": [
    "from sympy.utilities.lambdify import lambdify\n",
    "func = lambdify('x', s0,'numpy') # returns a numpy-ready function\n",
    "\n",
    "numpy.random.seed(0)\n",
    "\n",
    "N = 20\n",
    "x = numpy.linspace(start=0, stop=10, num=N)\n",
    "yo = func(x)\n",
    "ye = yo + numpy.random.normal(0., 0.1, len(x))\n",
    "\n",
    "df = pandas.DataFrame(dict(h=x, t=ye))\n",
    "df.to_csv('../data/free_fall.csv', index=False)\n",
    "\n",
    "p = Scatter(df, x='h', y='t')\n",
    "show(p)"
   ]
  }
 ],
 "metadata": {
  "kernelspec": {
   "display_name": "Python 3",
   "language": "python",
   "name": "python3"
  },
  "language_info": {
   "codemirror_mode": {
    "name": "ipython",
    "version": 3
   },
   "file_extension": ".py",
   "mimetype": "text/x-python",
   "name": "python",
   "nbconvert_exporter": "python",
   "pygments_lexer": "ipython3",
   "version": "3.6.0"
  }
 },
 "nbformat": 4,
 "nbformat_minor": 2
}
